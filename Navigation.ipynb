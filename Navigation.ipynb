{
 "cells": [
  {
   "cell_type": "markdown",
   "metadata": {},
   "source": [
    "# Navigation\n",
    "\n",
    "---\n",
    "\n",
    "In this notebook, we start and interact with the environment to train an agent or watch him collect bananas.\n",
    "\n",
    "### 1. Necessary imports and defining the constants\n",
    "\n",
    "We begin by importing some necessary packages.  If the code cell below returns an error, please revisit the project instructions to double-check that you have installed [Unity ML-Agents](https://github.com/Unity-Technologies/ml-agents/blob/master/docs/Installation.md) and [NumPy](http://www.numpy.org/)."
   ]
  },
  {
   "cell_type": "code",
   "execution_count": 8,
   "metadata": {},
   "outputs": [],
   "source": [
    "from collections import deque\n",
    "import pickle\n",
    "\n",
    "import numpy as np\n",
    "import pandas as pd\n",
    "import torch\n",
    "from unityagents import UnityEnvironment\n",
    "from tqdm import tqdm\n",
    "\n",
    "from dqn_agent import Agent\n",
    "\n",
    "%matplotlib inline \n",
    "\n",
    "# Use the GPU if one is available\n",
    "device = torch.device(\"cuda:0\" if torch.cuda.is_available() else \"cpu\")"
   ]
  },
  {
   "cell_type": "markdown",
   "metadata": {},
   "source": [
    "Next, we will define all the constants relevant to this notebook. This is the only cell you need to modify. The rest of the notebook should run without any modifications.\n",
    "Change the `env_file_name` parameter to match the location of the Unity environment that you downloaded.\n",
    "\n",
    "- **Mac**: `\"path/to/Banana.app\"`\n",
    "- **Windows** (x86): `\"path/to/Banana_Windows_x86/Banana.exe\"`\n",
    "- **Windows** (x86_64): `\"path/to/Banana_Windows_x86_64/Banana.exe\"`\n",
    "- **Linux** (x86): `\"path/to/Banana_Linux/Banana.x86\"`\n",
    "- **Linux** (x86_64): `\"path/to/Banana_Linux/Banana.x86_64\"`\n",
    "- **Linux** (x86, headless): `\"path/to/Banana_Linux_NoVis/Banana.x86\"`\n",
    "- **Linux** (x86_64, headless): `\"path/to/Banana_Linux_NoVis/Banana.x86_64\"`\n",
    "\n",
    "The parameters `pers`, `duellings`, `suffs` and `legend_names` are lists with the same length if you want to train multiple different agents."
   ]
  },
  {
   "cell_type": "code",
   "execution_count": 5,
   "metadata": {},
   "outputs": [],
   "source": [
    "env_file_name = 'Banana_Windows_x86_64/Banana.exe'   # Path to the Unity environment.\n",
    "n_episodes = 1000                                    # Number of episodes to train on\n",
    "suffs = ['woper','wper','wper_duell']                # Suffix(es) to add to saved modelnames and scores according to the agent specifications you want to use\n",
    "legend_names = ['Without PER',                       # Legend name(s) that will be displayed in the scoreplot according to suffs\n",
    "                'With PER', \n",
    "                'With PER and duelling']               \n",
    "pers = [False, True, True]                           # If True, will use prioritized experience replay (per). (according to suffs)\n",
    "duellings = [False, False, True]                     # If True, will use the duelling network architecture. (according to suffs)\n",
    "agent_to_watch = 1                                   # Index of agent you want to watch after training corresponding to lists defined aboce\n",
    "n_episodes_to_watch = 2                              # Numbers of episodes to watch the trained agent"
   ]
  },
  {
   "cell_type": "markdown",
   "metadata": {},
   "source": [
    "### 2. Setting up the environment"
   ]
  },
  {
   "cell_type": "markdown",
   "metadata": {},
   "source": [
    "In this step we start the environment, save the `brain_name`, which we need to interact with the environment and save the size of the state- and action-space."
   ]
  },
  {
   "cell_type": "code",
   "execution_count": 6,
   "metadata": {},
   "outputs": [
    {
     "name": "stderr",
     "output_type": "stream",
     "text": [
      "INFO:unityagents:\n",
      "'Academy' started successfully!\n",
      "Unity Academy name: Academy\n",
      "        Number of Brains: 1\n",
      "        Number of External Brains : 1\n",
      "        Lesson number : 0\n",
      "        Reset Parameters :\n",
      "\t\t\n",
      "Unity brain name: BananaBrain\n",
      "        Number of Visual Observations (per agent): 0\n",
      "        Vector Observation space type: continuous\n",
      "        Vector Observation space size (per agent): 37\n",
      "        Number of stacked Vector Observation: 1\n",
      "        Vector Action space type: discrete\n",
      "        Vector Action space size (per agent): 4\n",
      "        Vector Action descriptions: , , , \n"
     ]
    }
   ],
   "source": [
    "env = UnityEnvironment(file_name=env_file_name)\n",
    "brain_name = env.brain_names[0]\n",
    "brain = env.brains[brain_name]\n",
    "env_info = env.reset(train_mode=True)[brain_name]\n",
    "\n",
    "# number of actions\n",
    "action_size = brain.vector_action_space_size\n",
    "\n",
    "# dimension of the state-space \n",
    "state_size = len(env_info.vector_observations[0])"
   ]
  },
  {
   "cell_type": "markdown",
   "metadata": {},
   "source": [
    "### 3. Train an agent\n",
    "\n",
    "In the next code cells we define a training-method and anfter that initialize and train agents. The trained model-parameters will be saved every 250 episodes in `checkpoint_{model_suff}.pth`. It loops through all specified agent-parameters. If `per==True` it will prepopulate the memory with experiences from random actions before training.\n",
    "\n",
    "Training will be done on the gpu if one is available.\n",
    "\n",
    "If you just want to analyse already trained agent, you can skip this section."
   ]
  },
  {
   "cell_type": "code",
   "execution_count": 5,
   "metadata": {},
   "outputs": [],
   "source": [
    "def prepop_memory(agent, env):\n",
    "    \"\"\" Prepoulates the memory with experiences \n",
    "    from random actions if training with prioritized experience replay.\n",
    "    \n",
    "    Params\n",
    "    ======\n",
    "        agent (Agent): instance of class Agent which memory should be filled.\n",
    "        env (banana environment): environment to interact with.\n",
    "    \"\"\"\n",
    "    \n",
    "    print(\"Prepopulating the Memory...\", end=\"\")\n",
    "    pretrain_length = agent.memory.tree.capacity \n",
    "    \n",
    "    actions = np.random.choice(np.arange(agent.action_size), pretrain_length)\n",
    "    env_info = env.reset(train_mode=True)[brain_name] # reset the environment\n",
    "    state = env_info.vector_observations[0]\n",
    "\n",
    "    for i in tqdm(range(pretrain_length)):\n",
    "               \n",
    "        # Random action\n",
    "        action = actions[i]\n",
    "        \n",
    "        # Take the action\n",
    "        env_info = env.step(np.int32(action))[brain_name] \n",
    "\n",
    "        # Get next_state, reward and done\n",
    "        next_state = env_info.vector_observations[0]   # get the next state\n",
    "        reward = env_info.rewards[0]                   # get the reward\n",
    "        done = env_info.local_done[0]                  # see if episode has finished\n",
    "\n",
    "        # Store the experience in the memory\n",
    "        agent.memory.add(state, action, reward, next_state, done)\n",
    "               \n",
    "        # Reset env if done\n",
    "        if done:\n",
    "            env_info = env.reset(train_mode=True)[brain_name] # reset the environment\n",
    "            state = env_info.vector_observations[0]\n",
    "        else:\n",
    "            state = next_state\n",
    "    print(\"\\rPrepopulating the Memory...finished\\n\", end=\"\")\n",
    "    return agent\n",
    "\n",
    "def train_agent(n_episodes=2000, eps_start=1.0, eps_end=0.01, eps_decay=0.995, model_suff=\"\"):\n",
    "    \"\"\"Deep Q-Learning.\n",
    "    \n",
    "    Params\n",
    "    ======\n",
    "        n_episodes (int): maximum number of training episodes\n",
    "        eps_start (float): starting value of epsilon, for epsilon-greedy action selection\n",
    "        eps_end (float): minimum value of epsilon\n",
    "        eps_decay (float): multiplicative factor (per episode) for decreasing epsilon\n",
    "        model_suff (string): suffix to append for storing the model parameters and the score\n",
    "    \"\"\"\n",
    "    \n",
    "    scores = []                        # list containing scores from each episode\n",
    "    scores_window = deque(maxlen=100)  # last 100 scores\n",
    "    eps = eps_start                    # initialize epsilon\n",
    "    \n",
    "    for i_episode in range(1, n_episodes+1):\n",
    "        env_info = env.reset(train_mode=True)[brain_name] # reset the environment\n",
    "        state = env_info.vector_observations[0]\n",
    "        score = 0\n",
    "        while True:\n",
    "            \n",
    "            action = agent.act(state, eps)                      # Select an action using epsilon-greedy\n",
    "            env_info = env.step(np.int32(action))[brain_name]   # send the action to the environment\n",
    "            next_state = env_info.vector_observations[0]        # get the next state\n",
    "            reward = env_info.rewards[0]                        # get the reward\n",
    "            done = env_info.local_done[0]                       # see if episode has finished\n",
    "            \n",
    "            agent.step(state, action, reward, next_state, done) # Stores the experiernce and performs a \n",
    "                                                                # learning step, if the memory is large enough.\n",
    "            state = next_state\n",
    "            score += reward\n",
    "           \n",
    "            if done:\n",
    "                break \n",
    "        \n",
    "        scores_window.append(score)       # save most recent windowed score\n",
    "        scores.append(score)              # save most recent score\n",
    "        eps = max(eps_end, eps_decay*eps) # decrease epsilon\n",
    "        print('\\rEpisode {}\\tAverage Score: {:.2f}\\tLast Score: {:.2f}'.format(i_episode, np.mean(scores_window), scores[-1]), end=\"\")\n",
    "        if i_episode % 250 == 0:\n",
    "            print('\\rEpisode {}\\tAverage Score: {:.2f}'.format(i_episode, np.mean(scores_window)))\n",
    "            torch.save(agent.qnetwork_local.state_dict(), f\"checkpoint_{model_suff}.pth\")\n",
    "    print(\"\\n\")\n",
    "    torch.save(agent.qnetwork_local.state_dict(), f\"checkpoint_{model_suff}.pth\")\n",
    "    return scores"
   ]
  },
  {
   "cell_type": "code",
   "execution_count": 6,
   "metadata": {},
   "outputs": [
    {
     "name": "stdout",
     "output_type": "stream",
     "text": [
      "Agent wper is now training...\n",
      "Prepopulating the Memory..."
     ]
    },
    {
     "name": "stderr",
     "output_type": "stream",
     "text": [
      "100%|█████████████████████████████████████████████████████████████████████████| 100000/100000 [02:28<00:00, 674.39it/s]\n"
     ]
    },
    {
     "name": "stdout",
     "output_type": "stream",
     "text": [
      "Prepopulating the Memory...finished\n",
      "Episode 250\tAverage Score: 2.07\n",
      "Episode 500\tAverage Score: 9.13\n",
      "Episode 750\tAverage Score: 16.30\n",
      "Episode 1000\tAverage Score: 16.86\n",
      "\n",
      "\n",
      "Agent wper_duell is now training...\n",
      "Prepopulating the Memory..."
     ]
    },
    {
     "name": "stderr",
     "output_type": "stream",
     "text": [
      "100%|█████████████████████████████████████████████████████████████████████████| 100000/100000 [02:20<00:00, 711.39it/s]\n"
     ]
    },
    {
     "name": "stdout",
     "output_type": "stream",
     "text": [
      "Prepopulating the Memory...finished\n",
      "Episode 250\tAverage Score: 0.64\n",
      "Episode 500\tAverage Score: 6.37\n",
      "Episode 750\tAverage Score: 15.61\n",
      "Episode 1000\tAverage Score: 14.93\n",
      "\n",
      "\n"
     ]
    }
   ],
   "source": [
    "# Make sure all agent-parameters are in list-form and have the same length\n",
    "if type(pers)!=list: pers = [pers]\n",
    "if type(duellings)!=list: duellings = [duellings]\n",
    "if type(suffs)!=list: suffs = [suffs]\n",
    "if type(legend_names)!=list: legend_names: [legend_names]\n",
    "param_lengths = [len(pers), len(duellings), len(suffs), len(legend_names)]\n",
    "        \n",
    "assert max(param_lengths)==min(param_lengths), \"Lengths of specified parameters are not equal!\"\n",
    "        \n",
    "# Loop through all specified agents\n",
    "for per, duelling, suff in zip(pers, duellings, suffs):\n",
    "    # Print which agent is currently training\n",
    "    print(f\"Agent {suff} is now training...\")\n",
    "    \n",
    "    # Initialize agent and - if necessary - prepopulate the memory\n",
    "    agent = Agent(state_size=state_size, action_size=action_size, seed=0, per=per, duelling=duelling)\n",
    "    if per: agent = prepop_memory(agent, env)\n",
    "        \n",
    "    # Train the agent and save the scores for later analysis\n",
    "    scores = train_agent(n_episodes=n_episodes, model_suff=suff)\n",
    "    pickle.dump(scores, open(f\"Scores_{suff}.pkl\", 'wb'))"
   ]
  },
  {
   "cell_type": "markdown",
   "metadata": {},
   "source": [
    "### 4. Whatch a trained agent collect bananas\n",
    "Next we can watch the trained agent collect bananas for `n_episodes_to_watch` episodes. Therefore we load the model-parameters, reset the environment and loop through the specified number of episodes only using greedy actions. This can lead to states in wich the agent is stuck. Perhaps a small epsilon would fix this."
   ]
  },
  {
   "cell_type": "code",
   "execution_count": 9,
   "metadata": {},
   "outputs": [
    {
     "name": "stdout",
     "output_type": "stream",
     "text": [
      "Avg. score: 12.5\n"
     ]
    }
   ],
   "source": [
    "agent = Agent(state_size=state_size, action_size=action_size, seed=0, per=pers[agent_to_watch], duelling=duellings[agent_to_watch])\n",
    "agent.qnetwork_local.load_state_dict(torch.load(f\"checkpoint_{suffs[agent_to_watch]}.pth\", map_location=device))\n",
    "env_info = env.reset(train_mode=True)[brain_name] # reset the environment\n",
    "\n",
    "scores = []                            # list containing scores from each episode\n",
    "for i_episode in range(1, n_episodes_to_watch+1):    # Loop through five episodes\n",
    "    env_info = env.reset(train_mode=False)[brain_name] # reset the environment\n",
    "    state = env_info.vector_observations[0]\n",
    "    score = 0\n",
    "    while True:\n",
    "        action = agent.act(state, 0)                        # Select an action by greedily choosing the actions with the highest Q-Values\n",
    "        env_info = env.step(np.int32(action))[brain_name]   # send the action to the environment\n",
    "        state = env_info.vector_observations[0]             # get the next state\n",
    "        reward = env_info.rewards[0]                        # get the reward\n",
    "        done = env_info.local_done[0]                       # see if episode has finished\n",
    "\n",
    "        score += reward                                     # update the score\n",
    "\n",
    "        if done:\n",
    "            break \n",
    "    scores.append(score)              # save most recent score\n",
    "print(f\"Avg. score: {np.mean(scores):.3}\")"
   ]
  },
  {
   "cell_type": "markdown",
   "metadata": {},
   "source": [
    "### 5. Plot the learning-curve of all trained agents\n",
    "In the last section we want to take a look at the learning curves of all trained agents. For orientation the goal-score (13) is also plottet."
   ]
  },
  {
   "cell_type": "code",
   "execution_count": 10,
   "metadata": {},
   "outputs": [],
   "source": [
    "def plot_scores(suffs, legend_names=None):\n",
    "    \"\"\" Plots the scores from different runs. \n",
    "\n",
    "    For clarity only a maximum of 6 runs will be plotted. \n",
    "    \n",
    "    Params\n",
    "    ======\n",
    "        suffs (list of strings): defined suffixes of the trained agents\n",
    "        legend_names (list of strings): If legend_names is provided, the lines will be named accordingly.\n",
    "    \"\"\"\n",
    "    \n",
    "    colors = ['b','r','g','c','m','y']\n",
    "    \n",
    "    # Make sure the suffs- and legend_names-lists have the same length. If legend_names is not\n",
    "    # provided, suffs will be used instead.\n",
    "    if legend_names is not None:\n",
    "        assert(len(suffs)==len(legend_names)), \"Size of suffix-list doesn't match Size of names-list\"\n",
    "    else:\n",
    "        legend_names = suffs\n",
    "    \n",
    "    # Initialize the scores DataFrame\n",
    "    scores_df = pd.DataFrame()\n",
    "    \n",
    "    # Loop through all agents to compare\n",
    "    for i, name in enumerate(legend_names):\n",
    "        # Load the respective score and calculate the 100-moving average\n",
    "        scores = pickle.load(open(f\"Scores_{suffs[i]}.pkl\", 'rb'))\n",
    "        scores_df[name] = scores\n",
    "        scores_df[name+\"_100MA\"] = scores_df[name].rolling(window=100).mean()\n",
    "    \n",
    "    # Add a column for the Goal-Line\n",
    "    scores_df['Solved threshold'] = np.ones(len(scores_df))*13\n",
    "    \n",
    "    # Plot the lines\n",
    "    ax = scores_df[legend_names].plot(color=colors[:len(legend_names)], alpha=.4)\n",
    "    scores_df[[name+'_100MA' for name in legend_names]].plot(color=colors[:len(legend_names)], ax=ax)\n",
    "    scores_df[['Solved threshold']].plot(style='k--', ax=ax)\n",
    "    \n",
    "    # Set the axis-labels\n",
    "    ax.set_xlabel('Episodes')\n",
    "    ax.set_ylabel('Score')"
   ]
  },
  {
   "cell_type": "code",
   "execution_count": 11,
   "metadata": {},
   "outputs": [
    {
     "data": {
      "image/png": "[encoded data removed]",
      "text/plain": [
       "<Figure size 432x288 with 1 Axes>"
      ]
     },
     "metadata": {
      "needs_background": "light"
     },
     "output_type": "display_data"
    }
   ],
   "source": [
    "plot_scores(suffs, legend_names)"
   ]
  },
  {
   "cell_type": "markdown",
   "metadata": {},
   "source": [
    "### 6. Close the environment"
   ]
  },
  {
   "cell_type": "code",
   "execution_count": 12,
   "metadata": {},
   "outputs": [],
   "source": [
    "env.close()"
   ]
  },
  {
   "cell_type": "code",
   "execution_count": null,
   "metadata": {},
   "outputs": [],
   "source": []
  }
 ],
 "metadata": {
  "kernelspec": {
   "display_name": "Python 3",
   "language": "python",
   "name": "python3"
  },
  "language_info": {
   "codemirror_mode": {
    "name": "ipython",
    "version": 3
   },
   "file_extension": ".py",
   "mimetype": "text/x-python",
   "name": "python",
   "nbconvert_exporter": "python",
   "pygments_lexer": "ipython3",
   "version": "3.6.8"
  }
 },
 "nbformat": 4,
 "nbformat_minor": 2
}
